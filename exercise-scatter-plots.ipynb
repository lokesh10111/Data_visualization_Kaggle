{
 "cells": [
  {
   "cell_type": "markdown",
   "id": "c0d86852",
   "metadata": {
    "papermill": {
     "duration": 0.009696,
     "end_time": "2023-05-06T11:30:04.304789",
     "exception": false,
     "start_time": "2023-05-06T11:30:04.295093",
     "status": "completed"
    },
    "tags": []
   },
   "source": [
    "**This notebook is an exercise in the [Data Visualization](https://www.kaggle.com/learn/data-visualization) course.  You can reference the tutorial at [this link](https://www.kaggle.com/alexisbcook/scatter-plots).**\n",
    "\n",
    "---\n"
   ]
  },
  {
   "cell_type": "markdown",
   "id": "fed31539",
   "metadata": {
    "papermill": {
     "duration": 0.008336,
     "end_time": "2023-05-06T11:30:04.323682",
     "exception": false,
     "start_time": "2023-05-06T11:30:04.315346",
     "status": "completed"
    },
    "tags": []
   },
   "source": [
    "In this exercise, you will use your new knowledge to propose a solution to a real-world scenario.  To succeed, you will need to import data into Python, answer questions using the data, and generate **scatter plots** to understand patterns in the data.\n",
    "\n",
    "## Scenario\n",
    "\n",
    "You work for a major candy producer, and your goal is to write a report that your company can use to guide the design of its next product.  Soon after starting your research, you stumble across this [very interesting dataset](https://fivethirtyeight.com/features/the-ultimate-halloween-candy-power-ranking/) containing results from a fun survey to crowdsource favorite candies.\n",
    "\n",
    "## Setup\n",
    "\n",
    "Run the next cell to import and configure the Python libraries that you need to complete the exercise."
   ]
  },
  {
   "cell_type": "code",
   "execution_count": 1,
   "id": "02eb711e",
   "metadata": {
    "execution": {
     "iopub.execute_input": "2023-05-06T11:30:04.343689Z",
     "iopub.status.busy": "2023-05-06T11:30:04.342777Z",
     "iopub.status.idle": "2023-05-06T11:30:05.721592Z",
     "shell.execute_reply": "2023-05-06T11:30:05.720712Z"
    },
    "papermill": {
     "duration": 1.391931,
     "end_time": "2023-05-06T11:30:05.724202",
     "exception": false,
     "start_time": "2023-05-06T11:30:04.332271",
     "status": "completed"
    },
    "tags": []
   },
   "outputs": [
    {
     "name": "stderr",
     "output_type": "stream",
     "text": [
      "/opt/conda/lib/python3.10/site-packages/scipy/__init__.py:146: UserWarning: A NumPy version >=1.16.5 and <1.23.0 is required for this version of SciPy (detected version 1.23.5\n",
      "  warnings.warn(f\"A NumPy version >={np_minversion} and <{np_maxversion}\"\n"
     ]
    },
    {
     "name": "stdout",
     "output_type": "stream",
     "text": [
      "Setup Complete\n"
     ]
    }
   ],
   "source": [
    "import pandas as pd\n",
    "pd.plotting.register_matplotlib_converters()\n",
    "import matplotlib.pyplot as plt\n",
    "%matplotlib inline\n",
    "import seaborn as sns\n",
    "print(\"Setup Complete\")"
   ]
  },
  {
   "cell_type": "markdown",
   "id": "805796d7",
   "metadata": {
    "papermill": {
     "duration": 0.008393,
     "end_time": "2023-05-06T11:30:05.741875",
     "exception": false,
     "start_time": "2023-05-06T11:30:05.733482",
     "status": "completed"
    },
    "tags": []
   },
   "source": [
    "The questions below will give you feedback on your work. Run the following cell to set up our feedback system."
   ]
  },
  {
   "cell_type": "code",
   "execution_count": 2,
   "id": "f5b00fa9",
   "metadata": {
    "execution": {
     "iopub.execute_input": "2023-05-06T11:30:05.762498Z",
     "iopub.status.busy": "2023-05-06T11:30:05.761285Z",
     "iopub.status.idle": "2023-05-06T11:30:05.834694Z",
     "shell.execute_reply": "2023-05-06T11:30:05.833658Z"
    },
    "papermill": {
     "duration": 0.086604,
     "end_time": "2023-05-06T11:30:05.837189",
     "exception": false,
     "start_time": "2023-05-06T11:30:05.750585",
     "status": "completed"
    },
    "tags": []
   },
   "outputs": [
    {
     "name": "stdout",
     "output_type": "stream",
     "text": [
      "Setup Complete\n"
     ]
    }
   ],
   "source": [
    "# Set up code checking\n",
    "import os\n",
    "if not os.path.exists(\"../input/candy.csv\"):\n",
    "    os.symlink(\"../input/data-for-datavis/candy.csv\", \"../input/candy.csv\") \n",
    "from learntools.core import binder\n",
    "binder.bind(globals())\n",
    "from learntools.data_viz_to_coder.ex4 import *\n",
    "print(\"Setup Complete\")"
   ]
  },
  {
   "cell_type": "markdown",
   "id": "0be7c38c",
   "metadata": {
    "papermill": {
     "duration": 0.008402,
     "end_time": "2023-05-06T11:30:05.854812",
     "exception": false,
     "start_time": "2023-05-06T11:30:05.846410",
     "status": "completed"
    },
    "tags": []
   },
   "source": [
    "## Step 1: Load the Data\n",
    "\n",
    "Read the candy data file into `candy_data`.  Use the `\"id\"` column to label the rows."
   ]
  },
  {
   "cell_type": "code",
   "execution_count": 3,
   "id": "b7f1e78c",
   "metadata": {
    "execution": {
     "iopub.execute_input": "2023-05-06T11:30:05.874985Z",
     "iopub.status.busy": "2023-05-06T11:30:05.874176Z",
     "iopub.status.idle": "2023-05-06T11:30:05.891906Z",
     "shell.execute_reply": "2023-05-06T11:30:05.890867Z"
    },
    "papermill": {
     "duration": 0.030842,
     "end_time": "2023-05-06T11:30:05.894495",
     "exception": false,
     "start_time": "2023-05-06T11:30:05.863653",
     "status": "completed"
    },
    "tags": []
   },
   "outputs": [
    {
     "data": {
      "application/javascript": [
       "parent.postMessage({\"jupyterEvent\": \"custom.exercise_interaction\", \"data\": {\"outcomeType\": 1, \"valueTowardsCompletion\": 0.3333333333333333, \"interactionType\": 1, \"questionType\": 1, \"questionId\": \"1_LoadData\", \"learnToolsVersion\": \"0.3.4\", \"failureMessage\": \"\", \"exceptionClass\": \"\", \"trace\": \"\"}}, \"*\")"
      ],
      "text/plain": [
       "<IPython.core.display.Javascript object>"
      ]
     },
     "metadata": {},
     "output_type": "display_data"
    },
    {
     "data": {
      "text/markdown": [
       "<span style=\"color:#33cc33\">Correct</span>"
      ],
      "text/plain": [
       "Correct"
      ]
     },
     "metadata": {},
     "output_type": "display_data"
    }
   ],
   "source": [
    "# Path of the file to read\n",
    "candy_filepath = \"../input/candy.csv\"\n",
    "\n",
    "# Fill in the line below to read the file into a variable candy_data\n",
    "candy_data = pd.read_csv(candy_filepath,index_col=\"id\")\n",
    "\n",
    "# Run the line below with no changes to check that you've loaded the data correctly\n",
    "step_1.check()"
   ]
  },
  {
   "cell_type": "code",
   "execution_count": 4,
   "id": "b8f90bf2",
   "metadata": {
    "execution": {
     "iopub.execute_input": "2023-05-06T11:30:05.914945Z",
     "iopub.status.busy": "2023-05-06T11:30:05.914153Z",
     "iopub.status.idle": "2023-05-06T11:30:05.918083Z",
     "shell.execute_reply": "2023-05-06T11:30:05.917314Z"
    },
    "papermill": {
     "duration": 0.017086,
     "end_time": "2023-05-06T11:30:05.920509",
     "exception": false,
     "start_time": "2023-05-06T11:30:05.903423",
     "status": "completed"
    },
    "tags": []
   },
   "outputs": [],
   "source": [
    "# Lines below will give you a hint or solution code\n",
    "#step_1.hint()\n",
    "#step_1.solution()"
   ]
  },
  {
   "cell_type": "markdown",
   "id": "3bb77f97",
   "metadata": {
    "papermill": {
     "duration": 0.008687,
     "end_time": "2023-05-06T11:30:05.938916",
     "exception": false,
     "start_time": "2023-05-06T11:30:05.930229",
     "status": "completed"
    },
    "tags": []
   },
   "source": [
    "## Step 2: Review the data\n",
    "\n",
    "Use a Python command to print the first five rows of the data."
   ]
  },
  {
   "cell_type": "code",
   "execution_count": 5,
   "id": "8caa010a",
   "metadata": {
    "execution": {
     "iopub.execute_input": "2023-05-06T11:30:05.959005Z",
     "iopub.status.busy": "2023-05-06T11:30:05.958577Z",
     "iopub.status.idle": "2023-05-06T11:30:05.987599Z",
     "shell.execute_reply": "2023-05-06T11:30:05.986484Z"
    },
    "papermill": {
     "duration": 0.042127,
     "end_time": "2023-05-06T11:30:05.990080",
     "exception": false,
     "start_time": "2023-05-06T11:30:05.947953",
     "status": "completed"
    },
    "tags": []
   },
   "outputs": [
    {
     "data": {
      "text/html": [
       "<div>\n",
       "<style scoped>\n",
       "    .dataframe tbody tr th:only-of-type {\n",
       "        vertical-align: middle;\n",
       "    }\n",
       "\n",
       "    .dataframe tbody tr th {\n",
       "        vertical-align: top;\n",
       "    }\n",
       "\n",
       "    .dataframe thead th {\n",
       "        text-align: right;\n",
       "    }\n",
       "</style>\n",
       "<table border=\"1\" class=\"dataframe\">\n",
       "  <thead>\n",
       "    <tr style=\"text-align: right;\">\n",
       "      <th></th>\n",
       "      <th>competitorname</th>\n",
       "      <th>chocolate</th>\n",
       "      <th>fruity</th>\n",
       "      <th>caramel</th>\n",
       "      <th>peanutyalmondy</th>\n",
       "      <th>nougat</th>\n",
       "      <th>crispedricewafer</th>\n",
       "      <th>hard</th>\n",
       "      <th>bar</th>\n",
       "      <th>pluribus</th>\n",
       "      <th>sugarpercent</th>\n",
       "      <th>pricepercent</th>\n",
       "      <th>winpercent</th>\n",
       "    </tr>\n",
       "    <tr>\n",
       "      <th>id</th>\n",
       "      <th></th>\n",
       "      <th></th>\n",
       "      <th></th>\n",
       "      <th></th>\n",
       "      <th></th>\n",
       "      <th></th>\n",
       "      <th></th>\n",
       "      <th></th>\n",
       "      <th></th>\n",
       "      <th></th>\n",
       "      <th></th>\n",
       "      <th></th>\n",
       "      <th></th>\n",
       "    </tr>\n",
       "  </thead>\n",
       "  <tbody>\n",
       "    <tr>\n",
       "      <th>0</th>\n",
       "      <td>100 Grand</td>\n",
       "      <td>Yes</td>\n",
       "      <td>No</td>\n",
       "      <td>Yes</td>\n",
       "      <td>No</td>\n",
       "      <td>No</td>\n",
       "      <td>Yes</td>\n",
       "      <td>No</td>\n",
       "      <td>Yes</td>\n",
       "      <td>No</td>\n",
       "      <td>0.732</td>\n",
       "      <td>0.860</td>\n",
       "      <td>66.971725</td>\n",
       "    </tr>\n",
       "    <tr>\n",
       "      <th>1</th>\n",
       "      <td>3 Musketeers</td>\n",
       "      <td>Yes</td>\n",
       "      <td>No</td>\n",
       "      <td>No</td>\n",
       "      <td>No</td>\n",
       "      <td>Yes</td>\n",
       "      <td>No</td>\n",
       "      <td>No</td>\n",
       "      <td>Yes</td>\n",
       "      <td>No</td>\n",
       "      <td>0.604</td>\n",
       "      <td>0.511</td>\n",
       "      <td>67.602936</td>\n",
       "    </tr>\n",
       "    <tr>\n",
       "      <th>2</th>\n",
       "      <td>Air Heads</td>\n",
       "      <td>No</td>\n",
       "      <td>Yes</td>\n",
       "      <td>No</td>\n",
       "      <td>No</td>\n",
       "      <td>No</td>\n",
       "      <td>No</td>\n",
       "      <td>No</td>\n",
       "      <td>No</td>\n",
       "      <td>No</td>\n",
       "      <td>0.906</td>\n",
       "      <td>0.511</td>\n",
       "      <td>52.341465</td>\n",
       "    </tr>\n",
       "    <tr>\n",
       "      <th>3</th>\n",
       "      <td>Almond Joy</td>\n",
       "      <td>Yes</td>\n",
       "      <td>No</td>\n",
       "      <td>No</td>\n",
       "      <td>Yes</td>\n",
       "      <td>No</td>\n",
       "      <td>No</td>\n",
       "      <td>No</td>\n",
       "      <td>Yes</td>\n",
       "      <td>No</td>\n",
       "      <td>0.465</td>\n",
       "      <td>0.767</td>\n",
       "      <td>50.347546</td>\n",
       "    </tr>\n",
       "    <tr>\n",
       "      <th>4</th>\n",
       "      <td>Baby Ruth</td>\n",
       "      <td>Yes</td>\n",
       "      <td>No</td>\n",
       "      <td>Yes</td>\n",
       "      <td>Yes</td>\n",
       "      <td>Yes</td>\n",
       "      <td>No</td>\n",
       "      <td>No</td>\n",
       "      <td>Yes</td>\n",
       "      <td>No</td>\n",
       "      <td>0.604</td>\n",
       "      <td>0.767</td>\n",
       "      <td>56.914547</td>\n",
       "    </tr>\n",
       "  </tbody>\n",
       "</table>\n",
       "</div>"
      ],
      "text/plain": [
       "   competitorname chocolate fruity caramel peanutyalmondy nougat  \\\n",
       "id                                                                 \n",
       "0       100 Grand       Yes     No     Yes             No     No   \n",
       "1    3 Musketeers       Yes     No      No             No    Yes   \n",
       "2       Air Heads        No    Yes      No             No     No   \n",
       "3      Almond Joy       Yes     No      No            Yes     No   \n",
       "4       Baby Ruth       Yes     No     Yes            Yes    Yes   \n",
       "\n",
       "   crispedricewafer hard  bar pluribus  sugarpercent  pricepercent  winpercent  \n",
       "id                                                                              \n",
       "0               Yes   No  Yes       No         0.732         0.860   66.971725  \n",
       "1                No   No  Yes       No         0.604         0.511   67.602936  \n",
       "2                No   No   No       No         0.906         0.511   52.341465  \n",
       "3                No   No  Yes       No         0.465         0.767   50.347546  \n",
       "4                No   No  Yes       No         0.604         0.767   56.914547  "
      ]
     },
     "execution_count": 5,
     "metadata": {},
     "output_type": "execute_result"
    }
   ],
   "source": [
    "# Print the first five rows of the data\n",
    "____ # Your code here\n",
    "candy_data.head()"
   ]
  },
  {
   "cell_type": "markdown",
   "id": "1177b7bf",
   "metadata": {
    "papermill": {
     "duration": 0.009351,
     "end_time": "2023-05-06T11:30:06.009347",
     "exception": false,
     "start_time": "2023-05-06T11:30:05.999996",
     "status": "completed"
    },
    "tags": []
   },
   "source": [
    "The dataset contains 83 rows, where each corresponds to a different candy bar.  There are 13 columns:\n",
    "- `'competitorname'` contains the name of the candy bar. \n",
    "- the next **9** columns (from `'chocolate'` to `'pluribus'`) describe the candy.  For instance, rows with chocolate candies have `\"Yes\"` in the `'chocolate'` column (and candies without chocolate have `\"No\"` in the same column).\n",
    "- `'sugarpercent'` provides some indication of the amount of sugar, where higher values signify higher sugar content.\n",
    "- `'pricepercent'` shows the price per unit, relative to the other candies in the dataset.\n",
    "- `'winpercent'` is calculated from the survey results; higher values indicate that the candy was more popular with survey respondents.\n",
    "\n",
    "Use the first five rows of the data to answer the questions below."
   ]
  },
  {
   "cell_type": "code",
   "execution_count": 6,
   "id": "77511352",
   "metadata": {
    "execution": {
     "iopub.execute_input": "2023-05-06T11:30:06.030481Z",
     "iopub.status.busy": "2023-05-06T11:30:06.029701Z",
     "iopub.status.idle": "2023-05-06T11:30:06.037383Z",
     "shell.execute_reply": "2023-05-06T11:30:06.036609Z"
    },
    "papermill": {
     "duration": 0.020591,
     "end_time": "2023-05-06T11:30:06.039337",
     "exception": false,
     "start_time": "2023-05-06T11:30:06.018746",
     "status": "completed"
    },
    "tags": []
   },
   "outputs": [
    {
     "data": {
      "application/javascript": [
       "parent.postMessage({\"jupyterEvent\": \"custom.exercise_interaction\", \"data\": {\"outcomeType\": 1, \"valueTowardsCompletion\": 0.3333333333333333, \"interactionType\": 1, \"questionType\": 1, \"questionId\": \"2_ReviewData\", \"learnToolsVersion\": \"0.3.4\", \"failureMessage\": \"\", \"exceptionClass\": \"\", \"trace\": \"\"}}, \"*\")"
      ],
      "text/plain": [
       "<IPython.core.display.Javascript object>"
      ]
     },
     "metadata": {},
     "output_type": "display_data"
    },
    {
     "data": {
      "text/markdown": [
       "<span style=\"color:#33cc33\">Correct</span>"
      ],
      "text/plain": [
       "Correct"
      ]
     },
     "metadata": {},
     "output_type": "display_data"
    }
   ],
   "source": [
    "# Fill in the line below: Which candy was more popular with survey respondents:\n",
    "# '3 Musketeers' or 'Almond Joy'?  (Please enclose your answer in single quotes.)\n",
    "more_popular = '3 Musketeers'\n",
    "\n",
    "# Fill in the line below: Which candy has higher sugar content: 'Air Heads'\n",
    "# or 'Baby Ruth'? (Please enclose your answer in single quotes.)\n",
    "more_sugar = 'Air Heads'\n",
    "\n",
    "# Check your answers\n",
    "step_2.check()"
   ]
  },
  {
   "cell_type": "code",
   "execution_count": 7,
   "id": "490398e5",
   "metadata": {
    "execution": {
     "iopub.execute_input": "2023-05-06T11:30:06.061146Z",
     "iopub.status.busy": "2023-05-06T11:30:06.060489Z",
     "iopub.status.idle": "2023-05-06T11:30:06.064753Z",
     "shell.execute_reply": "2023-05-06T11:30:06.063650Z"
    },
    "papermill": {
     "duration": 0.018099,
     "end_time": "2023-05-06T11:30:06.067215",
     "exception": false,
     "start_time": "2023-05-06T11:30:06.049116",
     "status": "completed"
    },
    "tags": []
   },
   "outputs": [],
   "source": [
    "# Lines below will give you a hint or solution code\n",
    "#step_2.hint()\n",
    "#step_2.solution()"
   ]
  },
  {
   "cell_type": "markdown",
   "id": "46772dc7",
   "metadata": {
    "papermill": {
     "duration": 0.009498,
     "end_time": "2023-05-06T11:30:06.086565",
     "exception": false,
     "start_time": "2023-05-06T11:30:06.077067",
     "status": "completed"
    },
    "tags": []
   },
   "source": [
    "## Step 3: The role of sugar\n",
    "\n",
    "Do people tend to prefer candies with higher sugar content?  \n",
    "\n",
    "#### Part A\n",
    "\n",
    "Create a scatter plot that shows the relationship between `'sugarpercent'` (on the horizontal x-axis) and `'winpercent'` (on the vertical y-axis).  _Don't add a regression line just yet -- you'll do that in the next step!_"
   ]
  },
  {
   "cell_type": "code",
   "execution_count": 8,
   "id": "cd152e4e",
   "metadata": {
    "execution": {
     "iopub.execute_input": "2023-05-06T11:30:06.107988Z",
     "iopub.status.busy": "2023-05-06T11:30:06.106906Z",
     "iopub.status.idle": "2023-05-06T11:30:06.399610Z",
     "shell.execute_reply": "2023-05-06T11:30:06.398358Z"
    },
    "papermill": {
     "duration": 0.306053,
     "end_time": "2023-05-06T11:30:06.402130",
     "exception": false,
     "start_time": "2023-05-06T11:30:06.096077",
     "status": "completed"
    },
    "tags": []
   },
   "outputs": [
    {
     "data": {
      "application/javascript": [
       "parent.postMessage({\"jupyterEvent\": \"custom.exercise_interaction\", \"data\": {\"outcomeType\": 1, \"valueTowardsCompletion\": 0.3333333333333333, \"interactionType\": 1, \"questionType\": 2, \"questionId\": \"3.1_PlotBlueScatter\", \"learnToolsVersion\": \"0.3.4\", \"failureMessage\": \"\", \"exceptionClass\": \"\", \"trace\": \"\"}}, \"*\")"
      ],
      "text/plain": [
       "<IPython.core.display.Javascript object>"
      ]
     },
     "metadata": {},
     "output_type": "display_data"
    },
    {
     "data": {
      "text/markdown": [
       "<span style=\"color:#33cc33\">Correct</span>"
      ],
      "text/plain": [
       "Correct"
      ]
     },
     "metadata": {},
     "output_type": "display_data"
    },
    {
     "data": {
      "image/png": "[encoded data removed]",
      "text/plain": [
       "<Figure size 1500x500 with 1 Axes>"
      ]
     },
     "metadata": {},
     "output_type": "display_data"
    }
   ],
   "source": [
    "# Scatter plot showing the relationship between 'sugarpercent' and 'winpercent'\n",
    "____ # Your code here\n",
    "plt.figure(figsize=(15,5))\n",
    "\n",
    "sns.scatterplot(x=candy_data['sugarpercent'],y=candy_data['winpercent'])\n",
    "\n",
    "# Check your answer\n",
    "step_3.a.check()"
   ]
  },
  {
   "cell_type": "code",
   "execution_count": 9,
   "id": "c69812c0",
   "metadata": {
    "execution": {
     "iopub.execute_input": "2023-05-06T11:30:06.424997Z",
     "iopub.status.busy": "2023-05-06T11:30:06.424547Z",
     "iopub.status.idle": "2023-05-06T11:30:06.429203Z",
     "shell.execute_reply": "2023-05-06T11:30:06.427943Z"
    },
    "papermill": {
     "duration": 0.018991,
     "end_time": "2023-05-06T11:30:06.431480",
     "exception": false,
     "start_time": "2023-05-06T11:30:06.412489",
     "status": "completed"
    },
    "tags": []
   },
   "outputs": [],
   "source": [
    "# Lines below will give you a hint or solution code\n",
    "#step_3.a.hint()\n",
    "#step_3.a.solution_plot()"
   ]
  },
  {
   "cell_type": "markdown",
   "id": "f3ff61a6",
   "metadata": {
    "papermill": {
     "duration": 0.009779,
     "end_time": "2023-05-06T11:30:06.451785",
     "exception": false,
     "start_time": "2023-05-06T11:30:06.442006",
     "status": "completed"
    },
    "tags": []
   },
   "source": [
    "#### Part B\n",
    "\n",
    "Does the scatter plot show a **strong** correlation between the two variables?  If so, are candies with more sugar relatively more or less popular with the survey respondents?"
   ]
  },
  {
   "cell_type": "code",
   "execution_count": 10,
   "id": "69d2b032",
   "metadata": {
    "execution": {
     "iopub.execute_input": "2023-05-06T11:30:06.474047Z",
     "iopub.status.busy": "2023-05-06T11:30:06.473568Z",
     "iopub.status.idle": "2023-05-06T11:30:06.478118Z",
     "shell.execute_reply": "2023-05-06T11:30:06.477106Z"
    },
    "papermill": {
     "duration": 0.017924,
     "end_time": "2023-05-06T11:30:06.480025",
     "exception": false,
     "start_time": "2023-05-06T11:30:06.462101",
     "status": "completed"
    },
    "tags": []
   },
   "outputs": [],
   "source": [
    "#step_3.b.hint()"
   ]
  },
  {
   "cell_type": "code",
   "execution_count": 11,
   "id": "94a61355",
   "metadata": {
    "execution": {
     "iopub.execute_input": "2023-05-06T11:30:06.503038Z",
     "iopub.status.busy": "2023-05-06T11:30:06.502580Z",
     "iopub.status.idle": "2023-05-06T11:30:06.511003Z",
     "shell.execute_reply": "2023-05-06T11:30:06.509861Z"
    },
    "papermill": {
     "duration": 0.022873,
     "end_time": "2023-05-06T11:30:06.513175",
     "exception": false,
     "start_time": "2023-05-06T11:30:06.490302",
     "status": "completed"
    },
    "tags": []
   },
   "outputs": [
    {
     "data": {
      "application/javascript": [
       "parent.postMessage({\"jupyterEvent\": \"custom.exercise_interaction\", \"data\": {\"interactionType\": 3, \"questionType\": 4, \"questionId\": \"3.2_ThinkBlueScatter\", \"learnToolsVersion\": \"0.3.4\", \"valueTowardsCompletion\": 0.0, \"failureMessage\": \"\", \"exceptionClass\": \"\", \"trace\": \"\", \"outcomeType\": 4}}, \"*\")"
      ],
      "text/plain": [
       "<IPython.core.display.Javascript object>"
      ]
     },
     "metadata": {},
     "output_type": "display_data"
    },
    {
     "data": {
      "text/markdown": [
       "<span style=\"color:#33cc99\">Solution:</span> The scatter plot does not show a strong correlation between the two variables. Since there is no clear relationship between the two variables, this tells us that sugar content does not play a strong role in candy popularity."
      ],
      "text/plain": [
       "Solution: The scatter plot does not show a strong correlation between the two variables. Since there is no clear relationship between the two variables, this tells us that sugar content does not play a strong role in candy popularity."
      ]
     },
     "metadata": {},
     "output_type": "display_data"
    }
   ],
   "source": [
    "# Check your answer (Run this code cell to receive credit!)\n",
    "step_3.b.solution()"
   ]
  },
  {
   "cell_type": "markdown",
   "id": "cedcf4bb",
   "metadata": {
    "papermill": {
     "duration": 0.010198,
     "end_time": "2023-05-06T11:30:06.534014",
     "exception": false,
     "start_time": "2023-05-06T11:30:06.523816",
     "status": "completed"
    },
    "tags": []
   },
   "source": [
    "## Step 4: Take a closer look\n",
    "\n",
    "#### Part A\n",
    "\n",
    "Create the same scatter plot you created in **Step 3**, but now with a regression line!"
   ]
  },
  {
   "cell_type": "code",
   "execution_count": 12,
   "id": "c268c2e8",
   "metadata": {
    "execution": {
     "iopub.execute_input": "2023-05-06T11:30:06.557086Z",
     "iopub.status.busy": "2023-05-06T11:30:06.556610Z",
     "iopub.status.idle": "2023-05-06T11:30:06.894380Z",
     "shell.execute_reply": "2023-05-06T11:30:06.893030Z"
    },
    "papermill": {
     "duration": 0.352634,
     "end_time": "2023-05-06T11:30:06.897202",
     "exception": false,
     "start_time": "2023-05-06T11:30:06.544568",
     "status": "completed"
    },
    "tags": []
   },
   "outputs": [
    {
     "data": {
      "application/javascript": [
       "parent.postMessage({\"jupyterEvent\": \"custom.exercise_interaction\", \"data\": {\"outcomeType\": 1, \"valueTowardsCompletion\": 0.3333333333333333, \"interactionType\": 1, \"questionType\": 2, \"questionId\": \"4.1_PlotBlueReg\", \"learnToolsVersion\": \"0.3.4\", \"failureMessage\": \"\", \"exceptionClass\": \"\", \"trace\": \"\"}}, \"*\")"
      ],
      "text/plain": [
       "<IPython.core.display.Javascript object>"
      ]
     },
     "metadata": {},
     "output_type": "display_data"
    },
    {
     "data": {
      "text/markdown": [
       "<span style=\"color:#33cc33\">Correct</span>"
      ],
      "text/plain": [
       "Correct"
      ]
     },
     "metadata": {},
     "output_type": "display_data"
    },
    {
     "data": {
      "image/png": "[encoded data removed]",
      "text/plain": [
       "<Figure size 1500x500 with 1 Axes>"
      ]
     },
     "metadata": {},
     "output_type": "display_data"
    }
   ],
   "source": [
    "# Scatter plot w/ regression line showing the relationship between 'sugarpercent' and 'winpercent'\n",
    "____ # Your code here\n",
    "\n",
    "plt.figure(figsize=(15,5))\n",
    "\n",
    "sns.regplot(x=candy_data['sugarpercent'],y=candy_data['winpercent'])\n",
    "\n",
    "# Check your answer\n",
    "step_4.a.check()"
   ]
  },
  {
   "cell_type": "code",
   "execution_count": 13,
   "id": "f2416dbe",
   "metadata": {
    "execution": {
     "iopub.execute_input": "2023-05-06T11:30:06.922335Z",
     "iopub.status.busy": "2023-05-06T11:30:06.921846Z",
     "iopub.status.idle": "2023-05-06T11:30:06.926619Z",
     "shell.execute_reply": "2023-05-06T11:30:06.925453Z"
    },
    "papermill": {
     "duration": 0.020181,
     "end_time": "2023-05-06T11:30:06.928924",
     "exception": false,
     "start_time": "2023-05-06T11:30:06.908743",
     "status": "completed"
    },
    "tags": []
   },
   "outputs": [],
   "source": [
    "# Lines below will give you a hint or solution code\n",
    "#step_4.a.hint()\n",
    "#step_4.a.solution_plot()"
   ]
  },
  {
   "cell_type": "markdown",
   "id": "e86d3a0f",
   "metadata": {
    "papermill": {
     "duration": 0.011104,
     "end_time": "2023-05-06T11:30:06.951735",
     "exception": false,
     "start_time": "2023-05-06T11:30:06.940631",
     "status": "completed"
    },
    "tags": []
   },
   "source": [
    "#### Part B\n",
    "\n",
    "According to the plot above, is there a **slight** correlation between `'winpercent'` and `'sugarpercent'`?  What does this tell you about the candy that people tend to prefer?"
   ]
  },
  {
   "cell_type": "code",
   "execution_count": 14,
   "id": "ff98433e",
   "metadata": {
    "execution": {
     "iopub.execute_input": "2023-05-06T11:30:06.976287Z",
     "iopub.status.busy": "2023-05-06T11:30:06.975851Z",
     "iopub.status.idle": "2023-05-06T11:30:06.980140Z",
     "shell.execute_reply": "2023-05-06T11:30:06.979364Z"
    },
    "papermill": {
     "duration": 0.019319,
     "end_time": "2023-05-06T11:30:06.982299",
     "exception": false,
     "start_time": "2023-05-06T11:30:06.962980",
     "status": "completed"
    },
    "tags": []
   },
   "outputs": [],
   "source": [
    "#step_4.b.hint()"
   ]
  },
  {
   "cell_type": "code",
   "execution_count": 15,
   "id": "31aa6fe1",
   "metadata": {
    "execution": {
     "iopub.execute_input": "2023-05-06T11:30:07.008309Z",
     "iopub.status.busy": "2023-05-06T11:30:07.007302Z",
     "iopub.status.idle": "2023-05-06T11:30:07.015899Z",
     "shell.execute_reply": "2023-05-06T11:30:07.014805Z"
    },
    "papermill": {
     "duration": 0.024068,
     "end_time": "2023-05-06T11:30:07.018219",
     "exception": false,
     "start_time": "2023-05-06T11:30:06.994151",
     "status": "completed"
    },
    "tags": []
   },
   "outputs": [
    {
     "data": {
      "application/javascript": [
       "parent.postMessage({\"jupyterEvent\": \"custom.exercise_interaction\", \"data\": {\"interactionType\": 3, \"questionType\": 4, \"questionId\": \"4.2_ThinkBlueReg\", \"learnToolsVersion\": \"0.3.4\", \"valueTowardsCompletion\": 0.0, \"failureMessage\": \"\", \"exceptionClass\": \"\", \"trace\": \"\", \"outcomeType\": 4}}, \"*\")"
      ],
      "text/plain": [
       "<IPython.core.display.Javascript object>"
      ]
     },
     "metadata": {},
     "output_type": "display_data"
    },
    {
     "data": {
      "text/markdown": [
       "<span style=\"color:#33cc99\">Solution:</span> Since the regression line has a slightly positive slope, this tells us that there is a slightly positive correlation between `'winpercent'` and `'sugarpercent'`. Thus, people have a slight preference for candies containing relatively more sugar."
      ],
      "text/plain": [
       "Solution: Since the regression line has a slightly positive slope, this tells us that there is a slightly positive correlation between `'winpercent'` and `'sugarpercent'`. Thus, people have a slight preference for candies containing relatively more sugar."
      ]
     },
     "metadata": {},
     "output_type": "display_data"
    }
   ],
   "source": [
    "# Check your answer (Run this code cell to receive credit!)\n",
    "step_4.b.solution()"
   ]
  },
  {
   "cell_type": "markdown",
   "id": "b46102c1",
   "metadata": {
    "papermill": {
     "duration": 0.010963,
     "end_time": "2023-05-06T11:30:07.040766",
     "exception": false,
     "start_time": "2023-05-06T11:30:07.029803",
     "status": "completed"
    },
    "tags": []
   },
   "source": [
    "## Step 5: Chocolate!\n",
    "\n",
    "In the code cell below, create a scatter plot to show the relationship between `'pricepercent'` (on the horizontal x-axis) and `'winpercent'` (on the vertical y-axis). Use the `'chocolate'` column to color-code the points.  _Don't add any regression lines just yet -- you'll do that in the next step!_"
   ]
  },
  {
   "cell_type": "code",
   "execution_count": 16,
   "id": "fd5cd6c9",
   "metadata": {
    "execution": {
     "iopub.execute_input": "2023-05-06T11:30:07.065903Z",
     "iopub.status.busy": "2023-05-06T11:30:07.065079Z",
     "iopub.status.idle": "2023-05-06T11:30:07.419795Z",
     "shell.execute_reply": "2023-05-06T11:30:07.418348Z"
    },
    "papermill": {
     "duration": 0.370174,
     "end_time": "2023-05-06T11:30:07.422150",
     "exception": false,
     "start_time": "2023-05-06T11:30:07.051976",
     "status": "completed"
    },
    "tags": []
   },
   "outputs": [
    {
     "data": {
      "application/javascript": [
       "parent.postMessage({\"jupyterEvent\": \"custom.exercise_interaction\", \"data\": {\"outcomeType\": 1, \"valueTowardsCompletion\": 0.3333333333333333, \"interactionType\": 1, \"questionType\": 2, \"questionId\": \"5_ColorScatter\", \"learnToolsVersion\": \"0.3.4\", \"failureMessage\": \"\", \"exceptionClass\": \"\", \"trace\": \"\"}}, \"*\")"
      ],
      "text/plain": [
       "<IPython.core.display.Javascript object>"
      ]
     },
     "metadata": {},
     "output_type": "display_data"
    },
    {
     "data": {
      "text/markdown": [
       "<span style=\"color:#33cc33\">Correct</span>"
      ],
      "text/plain": [
       "Correct"
      ]
     },
     "metadata": {},
     "output_type": "display_data"
    },
    {
     "data": {
      "image/png": "[encoded data removed]",
      "text/plain": [
       "<Figure size 1500x500 with 1 Axes>"
      ]
     },
     "metadata": {},
     "output_type": "display_data"
    }
   ],
   "source": [
    "# Scatter plot showing the relationship between 'pricepercent', 'winpercent', and 'chocolate'\n",
    "____ # Your code here\n",
    "\n",
    "plt.figure(figsize=(15,5))\n",
    "\n",
    "sns.scatterplot(x=candy_data['sugarpercent'],y=candy_data['winpercent'],hue=candy_data['chocolate'])\n",
    "\n",
    "# Check your answer\n",
    "step_5.check()"
   ]
  },
  {
   "cell_type": "code",
   "execution_count": 17,
   "id": "02a2be69",
   "metadata": {
    "execution": {
     "iopub.execute_input": "2023-05-06T11:30:07.449509Z",
     "iopub.status.busy": "2023-05-06T11:30:07.449015Z",
     "iopub.status.idle": "2023-05-06T11:30:07.453616Z",
     "shell.execute_reply": "2023-05-06T11:30:07.452477Z"
    },
    "papermill": {
     "duration": 0.021096,
     "end_time": "2023-05-06T11:30:07.455882",
     "exception": false,
     "start_time": "2023-05-06T11:30:07.434786",
     "status": "completed"
    },
    "tags": []
   },
   "outputs": [],
   "source": [
    "# Lines below will give you a hint or solution code\n",
    "#step_5.hint()\n",
    "#step_5.solution_plot()"
   ]
  },
  {
   "cell_type": "markdown",
   "id": "ba62f664",
   "metadata": {
    "papermill": {
     "duration": 0.012923,
     "end_time": "2023-05-06T11:30:07.481502",
     "exception": false,
     "start_time": "2023-05-06T11:30:07.468579",
     "status": "completed"
    },
    "tags": []
   },
   "source": [
    "Can you see any interesting patterns in the scatter plot?  We'll investigate this plot further  by adding regression lines in the next step!\n",
    "\n",
    "## Step 6: Investigate chocolate\n",
    "\n",
    "#### Part A\n",
    "\n",
    "Create the same scatter plot you created in **Step 5**, but now with two regression lines, corresponding to (1) chocolate candies and (2) candies without chocolate."
   ]
  },
  {
   "cell_type": "code",
   "execution_count": 18,
   "id": "ce45dfb0",
   "metadata": {
    "execution": {
     "iopub.execute_input": "2023-05-06T11:30:07.508922Z",
     "iopub.status.busy": "2023-05-06T11:30:07.508404Z",
     "iopub.status.idle": "2023-05-06T11:30:08.264857Z",
     "shell.execute_reply": "2023-05-06T11:30:08.262704Z"
    },
    "papermill": {
     "duration": 0.774085,
     "end_time": "2023-05-06T11:30:08.268180",
     "exception": false,
     "start_time": "2023-05-06T11:30:07.494095",
     "status": "completed"
    },
    "tags": []
   },
   "outputs": [
    {
     "data": {
      "application/javascript": [
       "parent.postMessage({\"jupyterEvent\": \"custom.exercise_interaction\", \"data\": {\"outcomeType\": 1, \"valueTowardsCompletion\": 0.3333333333333333, \"interactionType\": 1, \"questionType\": 2, \"questionId\": \"6.1_PlotColorReg\", \"learnToolsVersion\": \"0.3.4\", \"failureMessage\": \"\", \"exceptionClass\": \"\", \"trace\": \"\"}}, \"*\")"
      ],
      "text/plain": [
       "<IPython.core.display.Javascript object>"
      ]
     },
     "metadata": {},
     "output_type": "display_data"
    },
    {
     "data": {
      "text/markdown": [
       "<span style=\"color:#33cc33\">Correct</span>"
      ],
      "text/plain": [
       "Correct"
      ]
     },
     "metadata": {},
     "output_type": "display_data"
    },
    {
     "data": {
      "image/png": "[encoded data removed]",
      "text/plain": [
       "<Figure size 578.611x500 with 1 Axes>"
      ]
     },
     "metadata": {},
     "output_type": "display_data"
    }
   ],
   "source": [
    "# Color-coded scatter plot w/ regression lines\n",
    "____ # Your code here\n",
    "\n",
    "sns.lmplot(x=\"pricepercent\", y=\"winpercent\", hue=\"chocolate\", data=candy_data)\n",
    "\n",
    "\n",
    "# Check your answer\n",
    "step_6.a.check()"
   ]
  },
  {
   "cell_type": "code",
   "execution_count": 19,
   "id": "c6f00b8c",
   "metadata": {
    "execution": {
     "iopub.execute_input": "2023-05-06T11:30:08.298415Z",
     "iopub.status.busy": "2023-05-06T11:30:08.297943Z",
     "iopub.status.idle": "2023-05-06T11:30:08.302944Z",
     "shell.execute_reply": "2023-05-06T11:30:08.301696Z"
    },
    "papermill": {
     "duration": 0.022558,
     "end_time": "2023-05-06T11:30:08.305282",
     "exception": false,
     "start_time": "2023-05-06T11:30:08.282724",
     "status": "completed"
    },
    "tags": []
   },
   "outputs": [],
   "source": [
    "# Lines below will give you a hint or solution code\n",
    "#step_6.a.hint()\n",
    "#step_6.a.solution_plot()"
   ]
  },
  {
   "cell_type": "markdown",
   "id": "54da039e",
   "metadata": {
    "papermill": {
     "duration": 0.013214,
     "end_time": "2023-05-06T11:30:08.332240",
     "exception": false,
     "start_time": "2023-05-06T11:30:08.319026",
     "status": "completed"
    },
    "tags": []
   },
   "source": [
    "#### Part B\n",
    "\n",
    "Using the regression lines, what conclusions can you draw about the effects of chocolate and price on candy popularity?"
   ]
  },
  {
   "cell_type": "code",
   "execution_count": 20,
   "id": "b5d3f058",
   "metadata": {
    "execution": {
     "iopub.execute_input": "2023-05-06T11:30:08.361441Z",
     "iopub.status.busy": "2023-05-06T11:30:08.360994Z",
     "iopub.status.idle": "2023-05-06T11:30:08.365801Z",
     "shell.execute_reply": "2023-05-06T11:30:08.364561Z"
    },
    "papermill": {
     "duration": 0.022607,
     "end_time": "2023-05-06T11:30:08.368096",
     "exception": false,
     "start_time": "2023-05-06T11:30:08.345489",
     "status": "completed"
    },
    "tags": []
   },
   "outputs": [],
   "source": [
    "#step_6.b.hint()"
   ]
  },
  {
   "cell_type": "code",
   "execution_count": 21,
   "id": "a99fc574",
   "metadata": {
    "execution": {
     "iopub.execute_input": "2023-05-06T11:30:08.397817Z",
     "iopub.status.busy": "2023-05-06T11:30:08.397407Z",
     "iopub.status.idle": "2023-05-06T11:30:08.406303Z",
     "shell.execute_reply": "2023-05-06T11:30:08.405229Z"
    },
    "papermill": {
     "duration": 0.026673,
     "end_time": "2023-05-06T11:30:08.408607",
     "exception": false,
     "start_time": "2023-05-06T11:30:08.381934",
     "status": "completed"
    },
    "tags": []
   },
   "outputs": [
    {
     "data": {
      "application/javascript": [
       "parent.postMessage({\"jupyterEvent\": \"custom.exercise_interaction\", \"data\": {\"interactionType\": 3, \"questionType\": 4, \"questionId\": \"6.2_ThinkColorReg\", \"learnToolsVersion\": \"0.3.4\", \"valueTowardsCompletion\": 0.0, \"failureMessage\": \"\", \"exceptionClass\": \"\", \"trace\": \"\", \"outcomeType\": 4}}, \"*\")"
      ],
      "text/plain": [
       "<IPython.core.display.Javascript object>"
      ]
     },
     "metadata": {},
     "output_type": "display_data"
    },
    {
     "data": {
      "text/markdown": [
       "<span style=\"color:#33cc99\">Solution:</span> We'll begin with the regression line for chocolate candies. Since this line has a slightly positive slope, we can say that more expensive chocolate candies tend to be more popular (than relatively cheaper chocolate candies).  Likewise, since the regression line for candies without chocolate has a negative slope, we can say that if candies don't contain chocolate, they tend to be more popular when they are cheaper.  One important note, however, is that the dataset is quite small -- so we shouldn't invest too much trust in these patterns!  To inspire more confidence in the results, we should add more candies to the dataset."
      ],
      "text/plain": [
       "Solution: We'll begin with the regression line for chocolate candies. Since this line has a slightly positive slope, we can say that more expensive chocolate candies tend to be more popular (than relatively cheaper chocolate candies).  Likewise, since the regression line for candies without chocolate has a negative slope, we can say that if candies don't contain chocolate, they tend to be more popular when they are cheaper.  One important note, however, is that the dataset is quite small -- so we shouldn't invest too much trust in these patterns!  To inspire more confidence in the results, we should add more candies to the dataset."
      ]
     },
     "metadata": {},
     "output_type": "display_data"
    }
   ],
   "source": [
    "# Check your answer (Run this code cell to receive credit!)\n",
    "step_6.b.solution()"
   ]
  },
  {
   "cell_type": "markdown",
   "id": "54a45db5",
   "metadata": {
    "papermill": {
     "duration": 0.01304,
     "end_time": "2023-05-06T11:30:08.435181",
     "exception": false,
     "start_time": "2023-05-06T11:30:08.422141",
     "status": "completed"
    },
    "tags": []
   },
   "source": [
    "## Step 7: Everybody loves chocolate.\n",
    "\n",
    "#### Part A\n",
    "\n",
    "Create a categorical scatter plot to highlight the relationship between `'chocolate'` and `'winpercent'`.  Put `'chocolate'` on the (horizontal) x-axis, and `'winpercent'` on the (vertical) y-axis."
   ]
  },
  {
   "cell_type": "code",
   "execution_count": 22,
   "id": "5a37dcd8",
   "metadata": {
    "execution": {
     "iopub.execute_input": "2023-05-06T11:30:08.463711Z",
     "iopub.status.busy": "2023-05-06T11:30:08.463287Z",
     "iopub.status.idle": "2023-05-06T11:30:08.901633Z",
     "shell.execute_reply": "2023-05-06T11:30:08.900429Z"
    },
    "papermill": {
     "duration": 0.458162,
     "end_time": "2023-05-06T11:30:08.906643",
     "exception": false,
     "start_time": "2023-05-06T11:30:08.448481",
     "status": "completed"
    },
    "tags": []
   },
   "outputs": [
    {
     "data": {
      "application/javascript": [
       "parent.postMessage({\"jupyterEvent\": \"custom.exercise_interaction\", \"data\": {\"outcomeType\": 1, \"valueTowardsCompletion\": 0.3333333333333333, \"interactionType\": 1, \"questionType\": 2, \"questionId\": \"7.1_PlotSwarm\", \"learnToolsVersion\": \"0.3.4\", \"failureMessage\": \"\", \"exceptionClass\": \"\", \"trace\": \"\"}}, \"*\")"
      ],
      "text/plain": [
       "<IPython.core.display.Javascript object>"
      ]
     },
     "metadata": {},
     "output_type": "display_data"
    },
    {
     "data": {
      "text/markdown": [
       "<span style=\"color:#33cc33\">Correct</span>"
      ],
      "text/plain": [
       "Correct"
      ]
     },
     "metadata": {},
     "output_type": "display_data"
    },
    {
     "data": {
      "image/png": "[encoded data removed]",
      "text/plain": [
       "<Figure size 640x480 with 1 Axes>"
      ]
     },
     "metadata": {},
     "output_type": "display_data"
    }
   ],
   "source": [
    "# Scatter plot showing the relationship between 'chocolate' and 'winpercent'\n",
    "____ # Your code here\n",
    "sns.swarmplot(x=\"chocolate\", y=\"winpercent\", data=candy_data)\n",
    "# Check your answer\n",
    "step_7.a.check()"
   ]
  },
  {
   "cell_type": "code",
   "execution_count": 23,
   "id": "683a15fb",
   "metadata": {
    "execution": {
     "iopub.execute_input": "2023-05-06T11:30:08.962892Z",
     "iopub.status.busy": "2023-05-06T11:30:08.961464Z",
     "iopub.status.idle": "2023-05-06T11:30:08.967145Z",
     "shell.execute_reply": "2023-05-06T11:30:08.966126Z"
    },
    "papermill": {
     "duration": 0.031966,
     "end_time": "2023-05-06T11:30:08.969597",
     "exception": false,
     "start_time": "2023-05-06T11:30:08.937631",
     "status": "completed"
    },
    "tags": []
   },
   "outputs": [],
   "source": [
    "# Lines below will give you a hint or solution code\n",
    "#step_7.a.hint()\n",
    "#step_7.a.solution_plot()"
   ]
  },
  {
   "cell_type": "markdown",
   "id": "ad950661",
   "metadata": {
    "papermill": {
     "duration": 0.013738,
     "end_time": "2023-05-06T11:30:08.997619",
     "exception": false,
     "start_time": "2023-05-06T11:30:08.983881",
     "status": "completed"
    },
    "tags": []
   },
   "source": [
    "#### Part B\n",
    "\n",
    "You decide to dedicate a section of your report to the fact that chocolate candies tend to be more popular than candies without chocolate.  Which plot is more appropriate to tell this story: the plot from **Step 6**, or the plot from **Step 7**?"
   ]
  },
  {
   "cell_type": "code",
   "execution_count": 24,
   "id": "ac93050f",
   "metadata": {
    "execution": {
     "iopub.execute_input": "2023-05-06T11:30:09.029123Z",
     "iopub.status.busy": "2023-05-06T11:30:09.028058Z",
     "iopub.status.idle": "2023-05-06T11:30:09.033449Z",
     "shell.execute_reply": "2023-05-06T11:30:09.032311Z"
    },
    "papermill": {
     "duration": 0.023935,
     "end_time": "2023-05-06T11:30:09.035837",
     "exception": false,
     "start_time": "2023-05-06T11:30:09.011902",
     "status": "completed"
    },
    "tags": []
   },
   "outputs": [],
   "source": [
    "#step_7.b.hint()"
   ]
  },
  {
   "cell_type": "code",
   "execution_count": 25,
   "id": "2a8dc703",
   "metadata": {
    "execution": {
     "iopub.execute_input": "2023-05-06T11:30:09.067806Z",
     "iopub.status.busy": "2023-05-06T11:30:09.066640Z",
     "iopub.status.idle": "2023-05-06T11:30:09.077276Z",
     "shell.execute_reply": "2023-05-06T11:30:09.076033Z"
    },
    "papermill": {
     "duration": 0.02961,
     "end_time": "2023-05-06T11:30:09.079875",
     "exception": false,
     "start_time": "2023-05-06T11:30:09.050265",
     "status": "completed"
    },
    "tags": []
   },
   "outputs": [
    {
     "data": {
      "application/javascript": [
       "parent.postMessage({\"jupyterEvent\": \"custom.exercise_interaction\", \"data\": {\"interactionType\": 3, \"questionType\": 4, \"questionId\": \"7.2_ThinkSwarm\", \"learnToolsVersion\": \"0.3.4\", \"valueTowardsCompletion\": 0.0, \"failureMessage\": \"\", \"exceptionClass\": \"\", \"trace\": \"\", \"outcomeType\": 4}}, \"*\")"
      ],
      "text/plain": [
       "<IPython.core.display.Javascript object>"
      ]
     },
     "metadata": {},
     "output_type": "display_data"
    },
    {
     "data": {
      "text/markdown": [
       "<span style=\"color:#33cc99\">Solution:</span> In this case, the categorical scatter plot from **Step 7** is the more appropriate plot. While both plots tell the desired story, the plot from **Step 6** conveys far more information that could distract from the main point."
      ],
      "text/plain": [
       "Solution: In this case, the categorical scatter plot from **Step 7** is the more appropriate plot. While both plots tell the desired story, the plot from **Step 6** conveys far more information that could distract from the main point."
      ]
     },
     "metadata": {},
     "output_type": "display_data"
    }
   ],
   "source": [
    "# Check your answer (Run this code cell to receive credit!)\n",
    "step_7.b.solution()"
   ]
  },
  {
   "cell_type": "markdown",
   "id": "cdc35121",
   "metadata": {
    "papermill": {
     "duration": 0.023926,
     "end_time": "2023-05-06T11:30:09.118614",
     "exception": false,
     "start_time": "2023-05-06T11:30:09.094688",
     "status": "completed"
    },
    "tags": []
   },
   "source": [
    "## Keep going\n",
    "\n",
    "Explore **[histograms and density plots](https://www.kaggle.com/alexisbcook/distributions)**."
   ]
  },
  {
   "cell_type": "markdown",
   "id": "158f6add",
   "metadata": {
    "papermill": {
     "duration": 0.014402,
     "end_time": "2023-05-06T11:30:09.149082",
     "exception": false,
     "start_time": "2023-05-06T11:30:09.134680",
     "status": "completed"
    },
    "tags": []
   },
   "source": [
    "---\n",
    "\n",
    "\n",
    "\n",
    "\n",
    "*Have questions or comments? Visit the [course discussion forum](https://www.kaggle.com/learn/data-visualization/discussion) to chat with other learners.*"
   ]
  }
 ],
 "metadata": {
  "kernelspec": {
   "display_name": "Python 3",
   "language": "python",
   "name": "python3"
  },
  "language_info": {
   "codemirror_mode": {
    "name": "ipython",
    "version": 3
   },
   "file_extension": ".py",
   "mimetype": "text/x-python",
   "name": "python",
   "nbconvert_exporter": "python",
   "pygments_lexer": "ipython3",
   "version": "3.10.10"
  },
  "papermill": {
   "default_parameters": {},
   "duration": 16.67137,
   "end_time": "2023-05-06T11:30:10.287860",
   "environment_variables": {},
   "exception": null,
   "input_path": "__notebook__.ipynb",
   "output_path": "__notebook__.ipynb",
   "parameters": {},
   "start_time": "2023-05-06T11:29:53.616490",
   "version": "2.4.0"
  }
 },
 "nbformat": 4,
 "nbformat_minor": 5
}
